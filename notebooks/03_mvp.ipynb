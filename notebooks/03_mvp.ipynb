{
 "cells": [
  {
   "cell_type": "code",
   "execution_count": 14,
   "metadata": {},
   "outputs": [],
   "source": [
    "import pickle\n",
    "import numpy as np"
   ]
  },
  {
   "cell_type": "code",
   "execution_count": 4,
   "metadata": {},
   "outputs": [],
   "source": [
    "with open('full_cv.pkl', 'rb') as f:\n",
    "    df = pickle.load(f)\n",
    "    \n",
    "with open('vectorizer.pkl', 'rb') as f:\n",
    "    tfidf_v = pickle.load(f)"
   ]
  },
  {
   "cell_type": "code",
   "execution_count": 9,
   "metadata": {},
   "outputs": [],
   "source": [
    "X_tfidf = tfidf_v.transform(df.abstract)"
   ]
  },
  {
   "cell_type": "code",
   "execution_count": 7,
   "metadata": {},
   "outputs": [],
   "source": [
    "resnet_abstact = \"\"\"\n",
    "Deeper neural networks are more difficult to train. We present a residual learning framework to ease the training of networks that are substantially deeper than those used previously. We explicitly reformulate the layers as learning residual functions with reference to the layer inputs, instead of learning unreferenced functions. We provide comprehensive empirical evidence showing that these residual networks are easier to optimize, and can gain accuracy from considerably increased depth. On the ImageNet dataset we evaluate residual nets with a depth of up to 152 layers---8x deeper than VGG nets but still having lower complexity. An ensemble of these residual nets achieves 3.57% error on the ImageNet test set. This result won the 1st place on the ILSVRC 2015 classification task. We also present analysis on CIFAR-10 with 100 and 1000 layers.\n",
    "The depth of representations is of central importance for many visual recognition tasks. Solely due to our extremely deep representations, we obtain a 28% relative improvement on the COCO object detection dataset. Deep residual nets are foundations of our submissions to ILSVRC & COCO 2015 competitions, where we also won the 1st places on the tasks of ImageNet detection, ImageNet localization, COCO detection, and COCO segmentation. \n",
    "\"\"\""
   ]
  },
  {
   "cell_type": "code",
   "execution_count": 15,
   "metadata": {},
   "outputs": [],
   "source": [
    "def inference(abstract, top_k=10):\n",
    "    \n",
    "    x = tfidf_v.transform([abstract])\n",
    "    sims = cos_sim(X_tfidf, x)\n",
    "    sims = np.squeeze(sims)\n",
    "    most_sim_idx = sims.argsort()[::-1] # reverse\n",
    "    # if we also want to reject the paper itself, then it'd be most_sim_idx[-2::-1]\n",
    "    \n",
    "    df_fajne = df.iloc[most_sim_idx[:top_k]]\n",
    "    \n",
    "    return df_fajne"
   ]
  },
  {
   "cell_type": "code",
   "execution_count": 17,
   "metadata": {},
   "outputs": [],
   "source": [
    "df = inference(resnet_abstact)"
   ]
  },
  {
   "cell_type": "code",
   "execution_count": 18,
   "metadata": {},
   "outputs": [
    {
     "data": {
      "text/plain": [
       "686037      Deeper neural networks are more difficult to...\n",
       "955911      Residual Neural Networks [1] won first place...\n",
       "771150      In this article, we take one step toward und...\n",
       "758663      Convolutional Neural networks nowadays are o...\n",
       "735261      Deep residual networks were shown to be able...\n",
       "823376      Deep Residual Networks have reached the stat...\n",
       "736946      Deep residual networks have recently shown a...\n",
       "723279      Very deep convolutional neural networks intr...\n",
       "707540      Very deep convolutional networks have been c...\n",
       "759370      A residual-networks family with hundreds or ...\n",
       "Name: abstract, dtype: object"
      ]
     },
     "execution_count": 18,
     "metadata": {},
     "output_type": "execute_result"
    }
   ],
   "source": [
    "df.abstract"
   ]
  },
  {
   "cell_type": "code",
   "execution_count": 22,
   "metadata": {},
   "outputs": [],
   "source": [
    "with open('X_tfidf.pkl', 'wb') as f:\n",
    "    pickle.dump(X_tfidf, f)"
   ]
  },
  {
   "cell_type": "code",
   "execution_count": 21,
   "metadata": {},
   "outputs": [
    {
     "data": {
      "text/plain": [
       "<48309x30000 sparse matrix of type '<class 'numpy.float64'>'\n",
       "\twith 5058023 stored elements in Compressed Sparse Row format>"
      ]
     },
     "execution_count": 21,
     "metadata": {},
     "output_type": "execute_result"
    }
   ],
   "source": [
    "X_tfidf"
   ]
  }
 ],
 "metadata": {
  "kernelspec": {
   "display_name": "Python 3",
   "language": "python",
   "name": "python3"
  },
  "language_info": {
   "codemirror_mode": {
    "name": "ipython",
    "version": 3
   },
   "file_extension": ".py",
   "mimetype": "text/x-python",
   "name": "python",
   "nbconvert_exporter": "python",
   "pygments_lexer": "ipython3",
   "version": "3.8.5"
  }
 },
 "nbformat": 4,
 "nbformat_minor": 4
}
