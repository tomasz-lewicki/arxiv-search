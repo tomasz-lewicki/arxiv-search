{
 "cells": [
  {
   "cell_type": "code",
   "execution_count": 1,
   "metadata": {},
   "outputs": [],
   "source": [
    "import pickle\n",
    "import numpy as np\n",
    "from sklearn.feature_extraction.text import TfidfVectorizer\n",
    "from sklearn.metrics.pairwise import cosine_similarity as cos_sim"
   ]
  },
  {
   "cell_type": "code",
   "execution_count": 2,
   "metadata": {},
   "outputs": [],
   "source": [
    "with open('id+abstract.pkl', 'rb') as f:\n",
    "    df = pickle.load(f)"
   ]
  },
  {
   "cell_type": "code",
   "execution_count": 3,
   "metadata": {},
   "outputs": [],
   "source": [
    "with open('full_cv.pkl', 'rb') as f:\n",
    "    df = pickle.load(f)"
   ]
  },
  {
   "cell_type": "code",
   "execution_count": 4,
   "metadata": {},
   "outputs": [
    {
     "name": "stdout",
     "output_type": "stream",
     "text": [
      "CPU times: user 5.05 s, sys: 13.1 ms, total: 5.06 s\n",
      "Wall time: 5.06 s\n"
     ]
    },
    {
     "data": {
      "text/plain": [
       "TfidfVectorizer(max_features=30000, stop_words='english')"
      ]
     },
     "execution_count": 4,
     "metadata": {},
     "output_type": "execute_result"
    }
   ],
   "source": [
    "tfidf_vectorizer_ngram1 = TfidfVectorizer(stop_words='english', ngram_range=(1, 1), max_features=30000)\n",
    "%time tfidf_vectorizer_ngram1.fit(df.abstract)"
   ]
  },
  {
   "cell_type": "code",
   "execution_count": 5,
   "metadata": {},
   "outputs": [
    {
     "name": "stdout",
     "output_type": "stream",
     "text": [
      "CPU times: user 15.6 s, sys: 177 ms, total: 15.8 s\n",
      "Wall time: 15.8 s\n"
     ]
    },
    {
     "data": {
      "text/plain": [
       "TfidfVectorizer(max_features=30000, ngram_range=(1, 2), stop_words='english')"
      ]
     },
     "execution_count": 5,
     "metadata": {},
     "output_type": "execute_result"
    }
   ],
   "source": [
    "tfidf_vectorizer_ngram2 = TfidfVectorizer(stop_words='english', ngram_range=(1, 2), max_features=30000)\n",
    "%time tfidf_vectorizer_ngram2.fit(df.abstract)"
   ]
  },
  {
   "cell_type": "code",
   "execution_count": 6,
   "metadata": {},
   "outputs": [],
   "source": [
    "tfidf_v = tfidf_vectorizer_ngram2"
   ]
  },
  {
   "cell_type": "code",
   "execution_count": 7,
   "metadata": {},
   "outputs": [
    {
     "name": "stdout",
     "output_type": "stream",
     "text": [
      "CPU times: user 8.83 s, sys: 0 ns, total: 8.83 s\n",
      "Wall time: 8.83 s\n"
     ]
    }
   ],
   "source": [
    "%time X_tfidf = tfidf_v.transform(df.abstract)"
   ]
  },
  {
   "cell_type": "code",
   "execution_count": 36,
   "metadata": {},
   "outputs": [],
   "source": [
    "def inference(abstract, top_k=10):\n",
    "    \n",
    "    x = tfidf_v.transform([abstract])\n",
    "    sims = cos_sim(X_tfidf, x)\n",
    "    sims = np.squeeze(sims)\n",
    "    most_sim_idx = sims.argsort()\n",
    "    most_sim_idx = sims.argsort()[::-1] # reverse\n",
    "    # if we also want to reject the paper itself, then it'd be most_sim_idx[-2::-1]\n",
    "    \n",
    "    df_fajne = df.iloc[most_sim_idx[:top_k]]\n",
    "    \n",
    "    return df_fajne"
   ]
  },
  {
   "cell_type": "code",
   "execution_count": 37,
   "metadata": {},
   "outputs": [],
   "source": [
    "resnet_abstact = \"\"\"\n",
    "Deeper neural networks are more difficult to train. We present a residual learning framework to ease the training of networks that are substantially deeper than those used previously. We explicitly reformulate the layers as learning residual functions with reference to the layer inputs, instead of learning unreferenced functions. We provide comprehensive empirical evidence showing that these residual networks are easier to optimize, and can gain accuracy from considerably increased depth. On the ImageNet dataset we evaluate residual nets with a depth of up to 152 layers---8x deeper than VGG nets but still having lower complexity. An ensemble of these residual nets achieves 3.57% error on the ImageNet test set. This result won the 1st place on the ILSVRC 2015 classification task. We also present analysis on CIFAR-10 with 100 and 1000 layers.\n",
    "The depth of representations is of central importance for many visual recognition tasks. Solely due to our extremely deep representations, we obtain a 28% relative improvement on the COCO object detection dataset. Deep residual nets are foundations of our submissions to ILSVRC & COCO 2015 competitions, where we also won the 1st places on the tasks of ImageNet detection, ImageNet localization, COCO detection, and COCO segmentation. \n",
    "\"\"\""
   ]
  },
  {
   "cell_type": "code",
   "execution_count": 39,
   "metadata": {},
   "outputs": [],
   "source": [
    "chosen = inference(resnet_abstact)"
   ]
  },
  {
   "cell_type": "code",
   "execution_count": 47,
   "metadata": {},
   "outputs": [
    {
     "data": {
      "text/plain": [
       "['1512.03385',\n",
       " '1803.05778',\n",
       " '1609.05672',\n",
       " '1608.02201',\n",
       " '1605.07146',\n",
       " '1702.08782',\n",
       " '1605.08831',\n",
       " '1604.04112',\n",
       " '1602.07261',\n",
       " '1608.02908']"
      ]
     },
     "execution_count": 47,
     "metadata": {},
     "output_type": "execute_result"
    }
   ],
   "source": [
    "chosen"
   ]
  },
  {
   "cell_type": "code",
   "execution_count": 48,
   "metadata": {},
   "outputs": [
    {
     "data": {
      "text/html": [
       "<div>\n",
       "<style scoped>\n",
       "    .dataframe tbody tr th:only-of-type {\n",
       "        vertical-align: middle;\n",
       "    }\n",
       "\n",
       "    .dataframe tbody tr th {\n",
       "        vertical-align: top;\n",
       "    }\n",
       "\n",
       "    .dataframe thead th {\n",
       "        text-align: right;\n",
       "    }\n",
       "</style>\n",
       "<table border=\"1\" class=\"dataframe\">\n",
       "  <thead>\n",
       "    <tr style=\"text-align: right;\">\n",
       "      <th></th>\n",
       "      <th>id</th>\n",
       "      <th>submitter</th>\n",
       "      <th>authors</th>\n",
       "      <th>title</th>\n",
       "      <th>comments</th>\n",
       "      <th>journal-ref</th>\n",
       "      <th>doi</th>\n",
       "      <th>report-no</th>\n",
       "      <th>categories</th>\n",
       "      <th>license</th>\n",
       "      <th>abstract</th>\n",
       "      <th>versions</th>\n",
       "      <th>update_date</th>\n",
       "      <th>authors_parsed</th>\n",
       "    </tr>\n",
       "  </thead>\n",
       "  <tbody>\n",
       "    <tr>\n",
       "      <th>686037</th>\n",
       "      <td>1512.03385</td>\n",
       "      <td>Kaiming He</td>\n",
       "      <td>Kaiming He, Xiangyu Zhang, Shaoqing Ren, Jian Sun</td>\n",
       "      <td>Deep Residual Learning for Image Recognition</td>\n",
       "      <td>Tech report</td>\n",
       "      <td>None</td>\n",
       "      <td>None</td>\n",
       "      <td>None</td>\n",
       "      <td>cs.CV</td>\n",
       "      <td>http://arxiv.org/licenses/nonexclusive-distrib...</td>\n",
       "      <td>Deeper neural networks are more difficult to...</td>\n",
       "      <td>[{'version': 'v1', 'created': 'Thu, 10 Dec 201...</td>\n",
       "      <td>2015-12-11</td>\n",
       "      <td>[[He, Kaiming, ], [Zhang, Xiangyu, ], [Ren, Sh...</td>\n",
       "    </tr>\n",
       "    <tr>\n",
       "      <th>955911</th>\n",
       "      <td>1803.05778</td>\n",
       "      <td>Yatin Saraiya</td>\n",
       "      <td>Yatin Saraiya</td>\n",
       "      <td>Using accumulation to optimize deep residual n...</td>\n",
       "      <td>7 pages, 6 figures, 1 table</td>\n",
       "      <td>None</td>\n",
       "      <td>None</td>\n",
       "      <td>None</td>\n",
       "      <td>cs.CV</td>\n",
       "      <td>http://arxiv.org/licenses/nonexclusive-distrib...</td>\n",
       "      <td>Residual Neural Networks [1] won first place...</td>\n",
       "      <td>[{'version': 'v1', 'created': 'Sun, 14 Jan 201...</td>\n",
       "      <td>2018-03-16</td>\n",
       "      <td>[[Saraiya, Yatin, ]]</td>\n",
       "    </tr>\n",
       "    <tr>\n",
       "      <th>771150</th>\n",
       "      <td>1609.05672</td>\n",
       "      <td>Masoud Abdi</td>\n",
       "      <td>Masoud Abdi and Saeid Nahavandi</td>\n",
       "      <td>Multi-Residual Networks: Improving the Speed a...</td>\n",
       "      <td>This work has been submitted to the IEEE for p...</td>\n",
       "      <td>None</td>\n",
       "      <td>None</td>\n",
       "      <td>None</td>\n",
       "      <td>cs.CV</td>\n",
       "      <td>http://arxiv.org/licenses/nonexclusive-distrib...</td>\n",
       "      <td>In this article, we take one step toward und...</td>\n",
       "      <td>[{'version': 'v1', 'created': 'Mon, 19 Sep 201...</td>\n",
       "      <td>2017-03-16</td>\n",
       "      <td>[[Abdi, Masoud, ], [Nahavandi, Saeid, ]]</td>\n",
       "    </tr>\n",
       "    <tr>\n",
       "      <th>758663</th>\n",
       "      <td>1608.02201</td>\n",
       "      <td>Hussein Al-Barazanchi</td>\n",
       "      <td>Hussein A. Al-Barazanchi, Hussam Qassim, Abhis...</td>\n",
       "      <td>Residual CNDS</td>\n",
       "      <td>None</td>\n",
       "      <td>None</td>\n",
       "      <td>None</td>\n",
       "      <td>None</td>\n",
       "      <td>cs.CV</td>\n",
       "      <td>http://creativecommons.org/licenses/by/4.0/</td>\n",
       "      <td>Convolutional Neural networks nowadays are o...</td>\n",
       "      <td>[{'version': 'v1', 'created': 'Sun, 7 Aug 2016...</td>\n",
       "      <td>2016-08-09</td>\n",
       "      <td>[[Al-Barazanchi, Hussein A., ], [Qassim, Hussa...</td>\n",
       "    </tr>\n",
       "    <tr>\n",
       "      <th>735261</th>\n",
       "      <td>1605.07146</td>\n",
       "      <td>Sergey Zagoruyko</td>\n",
       "      <td>Sergey Zagoruyko, Nikos Komodakis</td>\n",
       "      <td>Wide Residual Networks</td>\n",
       "      <td>None</td>\n",
       "      <td>None</td>\n",
       "      <td>None</td>\n",
       "      <td>None</td>\n",
       "      <td>cs.CV cs.LG cs.NE</td>\n",
       "      <td>http://arxiv.org/licenses/nonexclusive-distrib...</td>\n",
       "      <td>Deep residual networks were shown to be able...</td>\n",
       "      <td>[{'version': 'v1', 'created': 'Mon, 23 May 201...</td>\n",
       "      <td>2017-06-15</td>\n",
       "      <td>[[Zagoruyko, Sergey, ], [Komodakis, Nikos, ]]</td>\n",
       "    </tr>\n",
       "    <tr>\n",
       "      <th>823376</th>\n",
       "      <td>1702.08782</td>\n",
       "      <td>Alexandre Boulch</td>\n",
       "      <td>Alexandre Boulch</td>\n",
       "      <td>ShaResNet: reducing residual network parameter...</td>\n",
       "      <td>None</td>\n",
       "      <td>None</td>\n",
       "      <td>None</td>\n",
       "      <td>None</td>\n",
       "      <td>cs.CV cs.LG</td>\n",
       "      <td>http://arxiv.org/licenses/nonexclusive-distrib...</td>\n",
       "      <td>Deep Residual Networks have reached the stat...</td>\n",
       "      <td>[{'version': 'v1', 'created': 'Tue, 28 Feb 201...</td>\n",
       "      <td>2017-03-07</td>\n",
       "      <td>[[Boulch, Alexandre, ]]</td>\n",
       "    </tr>\n",
       "    <tr>\n",
       "      <th>736946</th>\n",
       "      <td>1605.08831</td>\n",
       "      <td>Falong Shen</td>\n",
       "      <td>Falong Shen, Gang Zeng</td>\n",
       "      <td>Weighted Residuals for Very Deep Networks</td>\n",
       "      <td>14 pages</td>\n",
       "      <td>None</td>\n",
       "      <td>None</td>\n",
       "      <td>None</td>\n",
       "      <td>cs.CV</td>\n",
       "      <td>http://arxiv.org/licenses/nonexclusive-distrib...</td>\n",
       "      <td>Deep residual networks have recently shown a...</td>\n",
       "      <td>[{'version': 'v1', 'created': 'Sat, 28 May 201...</td>\n",
       "      <td>2016-05-31</td>\n",
       "      <td>[[Shen, Falong, ], [Zeng, Gang, ]]</td>\n",
       "    </tr>\n",
       "    <tr>\n",
       "      <th>723279</th>\n",
       "      <td>1604.04112</td>\n",
       "      <td>Anish Shah</td>\n",
       "      <td>Anish Shah, Eashan Kadam, Hena Shah, Sameer Sh...</td>\n",
       "      <td>Deep Residual Networks with Exponential Linear...</td>\n",
       "      <td>submitted in Vision Net 2016, Jaipur, India</td>\n",
       "      <td>None</td>\n",
       "      <td>10.1145/2983402.2983406</td>\n",
       "      <td>None</td>\n",
       "      <td>cs.CV</td>\n",
       "      <td>http://arxiv.org/licenses/nonexclusive-distrib...</td>\n",
       "      <td>Very deep convolutional neural networks intr...</td>\n",
       "      <td>[{'version': 'v1', 'created': 'Thu, 14 Apr 201...</td>\n",
       "      <td>2016-10-06</td>\n",
       "      <td>[[Shah, Anish, ], [Kadam, Eashan, ], [Shah, He...</td>\n",
       "    </tr>\n",
       "    <tr>\n",
       "      <th>707540</th>\n",
       "      <td>1602.07261</td>\n",
       "      <td>Christian Szegedy</td>\n",
       "      <td>Christian Szegedy, Sergey Ioffe and Vincent Va...</td>\n",
       "      <td>Inception-v4, Inception-ResNet and the Impact ...</td>\n",
       "      <td>None</td>\n",
       "      <td>None</td>\n",
       "      <td>None</td>\n",
       "      <td>None</td>\n",
       "      <td>cs.CV</td>\n",
       "      <td>http://arxiv.org/licenses/nonexclusive-distrib...</td>\n",
       "      <td>Very deep convolutional networks have been c...</td>\n",
       "      <td>[{'version': 'v1', 'created': 'Tue, 23 Feb 201...</td>\n",
       "      <td>2016-08-24</td>\n",
       "      <td>[[Szegedy, Christian, ], [Ioffe, Sergey, ], [V...</td>\n",
       "    </tr>\n",
       "    <tr>\n",
       "      <th>759370</th>\n",
       "      <td>1608.02908</td>\n",
       "      <td>Miao Sun</td>\n",
       "      <td>Ke Zhang, Miao Sun, Tony X. Han, Xingfang Yuan...</td>\n",
       "      <td>Residual Networks of Residual Networks: Multil...</td>\n",
       "      <td>IEEE Transactions on Circuits and Systems for ...</td>\n",
       "      <td>None</td>\n",
       "      <td>10.1109/TCSVT.2017.2654543</td>\n",
       "      <td>None</td>\n",
       "      <td>cs.CV</td>\n",
       "      <td>http://arxiv.org/licenses/nonexclusive-distrib...</td>\n",
       "      <td>A residual-networks family with hundreds or ...</td>\n",
       "      <td>[{'version': 'v1', 'created': 'Tue, 9 Aug 2016...</td>\n",
       "      <td>2017-03-07</td>\n",
       "      <td>[[Zhang, Ke, ], [Sun, Miao, ], [Han, Tony X., ...</td>\n",
       "    </tr>\n",
       "  </tbody>\n",
       "</table>\n",
       "</div>"
      ],
      "text/plain": [
       "                id              submitter  \\\n",
       "686037  1512.03385             Kaiming He   \n",
       "955911  1803.05778          Yatin Saraiya   \n",
       "771150  1609.05672            Masoud Abdi   \n",
       "758663  1608.02201  Hussein Al-Barazanchi   \n",
       "735261  1605.07146       Sergey Zagoruyko   \n",
       "823376  1702.08782       Alexandre Boulch   \n",
       "736946  1605.08831            Falong Shen   \n",
       "723279  1604.04112             Anish Shah   \n",
       "707540  1602.07261      Christian Szegedy   \n",
       "759370  1608.02908               Miao Sun   \n",
       "\n",
       "                                                  authors  \\\n",
       "686037  Kaiming He, Xiangyu Zhang, Shaoqing Ren, Jian Sun   \n",
       "955911                                      Yatin Saraiya   \n",
       "771150                    Masoud Abdi and Saeid Nahavandi   \n",
       "758663  Hussein A. Al-Barazanchi, Hussam Qassim, Abhis...   \n",
       "735261                  Sergey Zagoruyko, Nikos Komodakis   \n",
       "823376                                   Alexandre Boulch   \n",
       "736946                             Falong Shen, Gang Zeng   \n",
       "723279  Anish Shah, Eashan Kadam, Hena Shah, Sameer Sh...   \n",
       "707540  Christian Szegedy, Sergey Ioffe and Vincent Va...   \n",
       "759370  Ke Zhang, Miao Sun, Tony X. Han, Xingfang Yuan...   \n",
       "\n",
       "                                                    title  \\\n",
       "686037       Deep Residual Learning for Image Recognition   \n",
       "955911  Using accumulation to optimize deep residual n...   \n",
       "771150  Multi-Residual Networks: Improving the Speed a...   \n",
       "758663                                      Residual CNDS   \n",
       "735261                             Wide Residual Networks   \n",
       "823376  ShaResNet: reducing residual network parameter...   \n",
       "736946          Weighted Residuals for Very Deep Networks   \n",
       "723279  Deep Residual Networks with Exponential Linear...   \n",
       "707540  Inception-v4, Inception-ResNet and the Impact ...   \n",
       "759370  Residual Networks of Residual Networks: Multil...   \n",
       "\n",
       "                                                 comments journal-ref  \\\n",
       "686037                                        Tech report        None   \n",
       "955911                        7 pages, 6 figures, 1 table        None   \n",
       "771150  This work has been submitted to the IEEE for p...        None   \n",
       "758663                                               None        None   \n",
       "735261                                               None        None   \n",
       "823376                                               None        None   \n",
       "736946                                           14 pages        None   \n",
       "723279        submitted in Vision Net 2016, Jaipur, India        None   \n",
       "707540                                               None        None   \n",
       "759370  IEEE Transactions on Circuits and Systems for ...        None   \n",
       "\n",
       "                               doi report-no         categories  \\\n",
       "686037                        None      None              cs.CV   \n",
       "955911                        None      None              cs.CV   \n",
       "771150                        None      None              cs.CV   \n",
       "758663                        None      None              cs.CV   \n",
       "735261                        None      None  cs.CV cs.LG cs.NE   \n",
       "823376                        None      None        cs.CV cs.LG   \n",
       "736946                        None      None              cs.CV   \n",
       "723279     10.1145/2983402.2983406      None              cs.CV   \n",
       "707540                        None      None              cs.CV   \n",
       "759370  10.1109/TCSVT.2017.2654543      None              cs.CV   \n",
       "\n",
       "                                                  license  \\\n",
       "686037  http://arxiv.org/licenses/nonexclusive-distrib...   \n",
       "955911  http://arxiv.org/licenses/nonexclusive-distrib...   \n",
       "771150  http://arxiv.org/licenses/nonexclusive-distrib...   \n",
       "758663        http://creativecommons.org/licenses/by/4.0/   \n",
       "735261  http://arxiv.org/licenses/nonexclusive-distrib...   \n",
       "823376  http://arxiv.org/licenses/nonexclusive-distrib...   \n",
       "736946  http://arxiv.org/licenses/nonexclusive-distrib...   \n",
       "723279  http://arxiv.org/licenses/nonexclusive-distrib...   \n",
       "707540  http://arxiv.org/licenses/nonexclusive-distrib...   \n",
       "759370  http://arxiv.org/licenses/nonexclusive-distrib...   \n",
       "\n",
       "                                                 abstract  \\\n",
       "686037    Deeper neural networks are more difficult to...   \n",
       "955911    Residual Neural Networks [1] won first place...   \n",
       "771150    In this article, we take one step toward und...   \n",
       "758663    Convolutional Neural networks nowadays are o...   \n",
       "735261    Deep residual networks were shown to be able...   \n",
       "823376    Deep Residual Networks have reached the stat...   \n",
       "736946    Deep residual networks have recently shown a...   \n",
       "723279    Very deep convolutional neural networks intr...   \n",
       "707540    Very deep convolutional networks have been c...   \n",
       "759370    A residual-networks family with hundreds or ...   \n",
       "\n",
       "                                                 versions update_date  \\\n",
       "686037  [{'version': 'v1', 'created': 'Thu, 10 Dec 201...  2015-12-11   \n",
       "955911  [{'version': 'v1', 'created': 'Sun, 14 Jan 201...  2018-03-16   \n",
       "771150  [{'version': 'v1', 'created': 'Mon, 19 Sep 201...  2017-03-16   \n",
       "758663  [{'version': 'v1', 'created': 'Sun, 7 Aug 2016...  2016-08-09   \n",
       "735261  [{'version': 'v1', 'created': 'Mon, 23 May 201...  2017-06-15   \n",
       "823376  [{'version': 'v1', 'created': 'Tue, 28 Feb 201...  2017-03-07   \n",
       "736946  [{'version': 'v1', 'created': 'Sat, 28 May 201...  2016-05-31   \n",
       "723279  [{'version': 'v1', 'created': 'Thu, 14 Apr 201...  2016-10-06   \n",
       "707540  [{'version': 'v1', 'created': 'Tue, 23 Feb 201...  2016-08-24   \n",
       "759370  [{'version': 'v1', 'created': 'Tue, 9 Aug 2016...  2017-03-07   \n",
       "\n",
       "                                           authors_parsed  \n",
       "686037  [[He, Kaiming, ], [Zhang, Xiangyu, ], [Ren, Sh...  \n",
       "955911                               [[Saraiya, Yatin, ]]  \n",
       "771150           [[Abdi, Masoud, ], [Nahavandi, Saeid, ]]  \n",
       "758663  [[Al-Barazanchi, Hussein A., ], [Qassim, Hussa...  \n",
       "735261      [[Zagoruyko, Sergey, ], [Komodakis, Nikos, ]]  \n",
       "823376                            [[Boulch, Alexandre, ]]  \n",
       "736946                 [[Shen, Falong, ], [Zeng, Gang, ]]  \n",
       "723279  [[Shah, Anish, ], [Kadam, Eashan, ], [Shah, He...  \n",
       "707540  [[Szegedy, Christian, ], [Ioffe, Sergey, ], [V...  \n",
       "759370  [[Zhang, Ke, ], [Sun, Miao, ], [Han, Tony X., ...  "
      ]
     },
     "execution_count": 48,
     "metadata": {},
     "output_type": "execute_result"
    }
   ],
   "source": [
    "chosen"
   ]
  },
  {
   "cell_type": "code",
   "execution_count": 43,
   "metadata": {},
   "outputs": [
    {
     "name": "stdout",
     "output_type": "stream",
     "text": [
      "2.7 µs ± 91.2 ns per loop (mean ± std. dev. of 7 runs, 100000 loops each)\n"
     ]
    }
   ],
   "source": [
    "%timeit chosen['title'].tolist()"
   ]
  },
  {
   "cell_type": "code",
   "execution_count": 45,
   "metadata": {},
   "outputs": [
    {
     "name": "stdout",
     "output_type": "stream",
     "text": [
      "4.91 µs ± 128 ns per loop (mean ± std. dev. of 7 runs, 100000 loops each)\n"
     ]
    }
   ],
   "source": [
    "%timeit list(chosen['title'])"
   ]
  }
 ],
 "metadata": {
  "kernelspec": {
   "display_name": "Python 3",
   "language": "python",
   "name": "python3"
  },
  "language_info": {
   "codemirror_mode": {
    "name": "ipython",
    "version": 3
   },
   "file_extension": ".py",
   "mimetype": "text/x-python",
   "name": "python",
   "nbconvert_exporter": "python",
   "pygments_lexer": "ipython3",
   "version": "3.8.5"
  }
 },
 "nbformat": 4,
 "nbformat_minor": 4
}
