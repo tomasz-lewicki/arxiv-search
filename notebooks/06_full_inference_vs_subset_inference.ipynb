{
 "cells": [
  {
   "cell_type": "code",
   "execution_count": 1,
   "metadata": {},
   "outputs": [],
   "source": [
    "import pickle\n",
    "import time\n",
    "import scipy\n",
    "import numpy as np\n",
    "from sklearn.feature_extraction.text import TfidfVectorizer\n",
    "from sklearn.metrics.pairwise import cosine_similarity as cos_sim"
   ]
  },
  {
   "cell_type": "code",
   "execution_count": 2,
   "metadata": {},
   "outputs": [],
   "source": [
    "with open('df_arxiv_id_abst_full.pkl', 'rb') as f:\n",
    "    df = pickle.load(f)"
   ]
  },
  {
   "cell_type": "code",
   "execution_count": 3,
   "metadata": {},
   "outputs": [],
   "source": [
    "with open('tf_idf_vectorizer_ngram1.pkl', 'rb') as f:\n",
    "     tfidf_v = pickle.load(f)"
   ]
  },
  {
   "cell_type": "code",
   "execution_count": 4,
   "metadata": {},
   "outputs": [],
   "source": [
    "with open('X_tfidf.pkl', 'rb') as f:\n",
    "     X_tfidf = pickle.load(f)\n",
    "        \n",
    "# For fast column lookups\n",
    "X_tfidf_csc = X_tfidf.tocsc()"
   ]
  },
  {
   "cell_type": "code",
   "execution_count": 5,
   "metadata": {},
   "outputs": [],
   "source": [
    "def calculate_cos_sim_fast(query_str: str):\n",
    "    # Performs query only on columns existing in the \n",
    "    # Time complexity is O(n) where n is # of unique tokens\n",
    "    # This is more efficinet, but only for small inputs \n",
    "    \n",
    "    # tokenize the string\n",
    "    x = np.array(tfidf_v.transform([query_str]).todense())\n",
    "    \n",
    "    # construct query vector\n",
    "    x_nonzero_idx = x.nonzero()[1]\n",
    "    x_small = x[:,x_nonzero_idx]\n",
    "    \n",
    "    # Narrow the similarity computation to tokens that are present in the query_string\n",
    "    X_words_sparse = scipy.sparse.hstack([X_tfidf_csc.getcol(c) for c in x_nonzero_idx])\n",
    "\n",
    "    # the vectors are already normalized\n",
    "    # we can thus limit a*b/(norm(a)*norm(b)) to a*b\n",
    "    cos_sim = X_words_sparse @ x_small.T\n",
    "\n",
    "    return cos_sim\n",
    "\n",
    "\n",
    "\n",
    "def inference(abstract, top_k=5):\n",
    "    st = time.perf_counter()\n",
    "    similarities = calculate_cos_sim_fast(abstract)\n",
    "    # if we also want to reject the paper itself, then it'd be most_sim_idx[-2::-1]\n",
    "    most_sim_idx = similarities.squeeze().argsort()[::-1]\n",
    "    df_similar = df.iloc[most_sim_idx[:5]]\n",
    "\n",
    "        \n",
    "    print(f\"Took {1000 * (time.perf_counter() - st)} ms\")\n",
    "\n",
    "    return df_similar"
   ]
  },
  {
   "cell_type": "code",
   "execution_count": 6,
   "metadata": {},
   "outputs": [],
   "source": [
    "my_thesis = \"\"\"\n",
    "Wildfires are a growing problem in the US and worldwide – in the last decade we\n",
    "witnessed some of the costliest, most destructive, and deadliest wildland fires on record.\n",
    "The consistent growth in the number of incidents, affected area, and suppression costs\n",
    "suggests that the issue might become even worse in the future. Solutions include early fire\n",
    "detection and preventative scanning of the vast wildlands. This thesis proposes a\n",
    "vision-based multimodal fire detection system that is deployed on an Unmanned Aerial\n",
    "Vehicle (UAV, drone) and can be used for early detection of new wildfires, and\n",
    "surveillance of existing ones. The Fire Perception Box multimodal perception hardware is\n",
    "designed and deployed onboard a custom built UAV. Visual spectrum (RGB) and infrared\n",
    "(IR) classification algorithms along with a fusion strategy are proposed and deployed to\n",
    "the UAV system. Overall, the system is capable of fully onboard real-time visual\n",
    "processing and produces spatial results which can later be utilized for realtime wildfire\n",
    "maps — a technology that is very much needed in fire management. The effectiveness of\n",
    "the system is shown via quantitative evaluation on the proposed Aerial Fire Dataset, as\n",
    "well as external datasets. Furthermore, the performance of the system is evaluated on\n",
    "never-seen data from a real-world 80-acre wildfire.\n",
    "\"\"\""
   ]
  },
  {
   "cell_type": "code",
   "execution_count": 7,
   "metadata": {},
   "outputs": [],
   "source": [
    "resnet_abstact = \"\"\"\n",
    "Deeper neural networks are more difficult to train. We present a residual learning framework to ease the training of networks that are substantially deeper than those used previously. We explicitly reformulate the layers as learning residual functions with reference to the layer inputs, instead of learning unreferenced functions. We provide comprehensive empirical evidence showing that these residual networks are easier to optimize, and can gain accuracy from considerably increased depth. On the ImageNet dataset we evaluate residual nets with a depth of up to 152 layers---8x deeper than VGG nets but still having lower complexity. An ensemble of these residual nets achieves 3.57% error on the ImageNet test set. This result won the 1st place on the ILSVRC 2015 classification task. We also present analysis on CIFAR-10 with 100 and 1000 layers.\n",
    "The depth of representations is of central importance for many visual recognition tasks. Solely due to our extremely deep representations, we obtain a 28% relative improvement on the COCO object detection dataset. Deep residual nets are foundations of our submissions to ILSVRC & COCO 2015 competitions, where we also won the 1st places on the tasks of ImageNet detection, ImageNet localization, COCO detection, and COCO segmentation. \n",
    "\"\"\""
   ]
  },
  {
   "cell_type": "code",
   "execution_count": 8,
   "metadata": {},
   "outputs": [],
   "source": [
    "something_recent = \"\"\"\n",
    "In this work, we present a new network design paradigm. Our goal is to help advance the understanding of network design and discover design principles that generalize across settings. Instead of focusing on designing individual network instances, we design network design spaces that parametrize populations of networks. The overall process is analogous to classic manual design of networks, but elevated to the design space level. Using our methodology we explore the structure aspect of network design and arrive at a low-dimensional design space consisting of simple, regular networks that we call RegNet. The core insight of the RegNet parametrization is surprisingly simple: widths and depths of good networks can be explained by a quantized linear function. We analyze the RegNet design space and arrive at interesting findings that do not match the current practice of network design. The RegNet design space provides simple and fast networks that work well across a wide range of flop regimes. Under comparable training settings and flops, the RegNet models outperform the popular EfficientNet models while being up to 5x faster on GPUs.\n",
    "\"\"\""
   ]
  },
  {
   "cell_type": "code",
   "execution_count": 9,
   "metadata": {},
   "outputs": [
    {
     "data": {
      "text/plain": [
       "(1000000, 407494)"
      ]
     },
     "execution_count": 9,
     "metadata": {},
     "output_type": "execute_result"
    }
   ],
   "source": [
    "X_tfidf.shape"
   ]
  },
  {
   "cell_type": "code",
   "execution_count": 10,
   "metadata": {},
   "outputs": [
    {
     "name": "stdout",
     "output_type": "stream",
     "text": [
      "Took 160.81252599542495 ms\n"
     ]
    },
    {
     "data": {
      "text/html": [
       "<div>\n",
       "<style scoped>\n",
       "    .dataframe tbody tr th:only-of-type {\n",
       "        vertical-align: middle;\n",
       "    }\n",
       "\n",
       "    .dataframe tbody tr th {\n",
       "        vertical-align: top;\n",
       "    }\n",
       "\n",
       "    .dataframe thead th {\n",
       "        text-align: right;\n",
       "    }\n",
       "</style>\n",
       "<table border=\"1\" class=\"dataframe\">\n",
       "  <thead>\n",
       "    <tr style=\"text-align: right;\">\n",
       "      <th></th>\n",
       "      <th>id</th>\n",
       "      <th>abstract</th>\n",
       "    </tr>\n",
       "  </thead>\n",
       "  <tbody>\n",
       "    <tr>\n",
       "      <th>837142</th>\n",
       "      <td>1704.02630</td>\n",
       "      <td>Wildland fire fighting is a very dangerous j...</td>\n",
       "    </tr>\n",
       "    <tr>\n",
       "      <th>972416</th>\n",
       "      <td>1804.10723</td>\n",
       "      <td>With the maturity of unmanned aerial vehicle...</td>\n",
       "    </tr>\n",
       "    <tr>\n",
       "      <th>934017</th>\n",
       "      <td>1801.05086</td>\n",
       "      <td>Unmanned aerial vehicles (UAV) are commonly ...</td>\n",
       "    </tr>\n",
       "    <tr>\n",
       "      <th>579939</th>\n",
       "      <td>1412.1961</td>\n",
       "      <td>This paper presents an approach for defining...</td>\n",
       "    </tr>\n",
       "    <tr>\n",
       "      <th>905772</th>\n",
       "      <td>1710.10389</td>\n",
       "      <td>The past few years have witnessed a tremendo...</td>\n",
       "    </tr>\n",
       "  </tbody>\n",
       "</table>\n",
       "</div>"
      ],
      "text/plain": [
       "                id                                           abstract\n",
       "837142  1704.02630    Wildland fire fighting is a very dangerous j...\n",
       "972416  1804.10723    With the maturity of unmanned aerial vehicle...\n",
       "934017  1801.05086    Unmanned aerial vehicles (UAV) are commonly ...\n",
       "579939   1412.1961    This paper presents an approach for defining...\n",
       "905772  1710.10389    The past few years have witnessed a tremendo..."
      ]
     },
     "execution_count": 10,
     "metadata": {},
     "output_type": "execute_result"
    }
   ],
   "source": [
    "inference(my_thesis)"
   ]
  },
  {
   "cell_type": "code",
   "execution_count": 11,
   "metadata": {},
   "outputs": [
    {
     "name": "stdout",
     "output_type": "stream",
     "text": [
      "Took 153.42719700129237 ms\n"
     ]
    },
    {
     "data": {
      "text/html": [
       "<div>\n",
       "<style scoped>\n",
       "    .dataframe tbody tr th:only-of-type {\n",
       "        vertical-align: middle;\n",
       "    }\n",
       "\n",
       "    .dataframe tbody tr th {\n",
       "        vertical-align: top;\n",
       "    }\n",
       "\n",
       "    .dataframe thead th {\n",
       "        text-align: right;\n",
       "    }\n",
       "</style>\n",
       "<table border=\"1\" class=\"dataframe\">\n",
       "  <thead>\n",
       "    <tr style=\"text-align: right;\">\n",
       "      <th></th>\n",
       "      <th>id</th>\n",
       "      <th>abstract</th>\n",
       "    </tr>\n",
       "  </thead>\n",
       "  <tbody>\n",
       "    <tr>\n",
       "      <th>982156</th>\n",
       "      <td>1805.09111</td>\n",
       "      <td>Graph-based design languages in UML (Unified...</td>\n",
       "    </tr>\n",
       "    <tr>\n",
       "      <th>868199</th>\n",
       "      <td>1707.03167</td>\n",
       "      <td>In this paper, we present RegNet, the first ...</td>\n",
       "    </tr>\n",
       "    <tr>\n",
       "      <th>609968</th>\n",
       "      <td>1503.07254</td>\n",
       "      <td>This paper studies the problem of designing ...</td>\n",
       "    </tr>\n",
       "    <tr>\n",
       "      <th>986744</th>\n",
       "      <td>1806.01104</td>\n",
       "      <td>Many-core co-design is a complex task in whi...</td>\n",
       "    </tr>\n",
       "    <tr>\n",
       "      <th>669210</th>\n",
       "      <td>1510.05253</td>\n",
       "      <td>This paper reviews the design of experiments...</td>\n",
       "    </tr>\n",
       "  </tbody>\n",
       "</table>\n",
       "</div>"
      ],
      "text/plain": [
       "                id                                           abstract\n",
       "982156  1805.09111    Graph-based design languages in UML (Unified...\n",
       "868199  1707.03167    In this paper, we present RegNet, the first ...\n",
       "609968  1503.07254    This paper studies the problem of designing ...\n",
       "986744  1806.01104    Many-core co-design is a complex task in whi...\n",
       "669210  1510.05253    This paper reviews the design of experiments..."
      ]
     },
     "execution_count": 11,
     "metadata": {},
     "output_type": "execute_result"
    }
   ],
   "source": [
    "inference(something_recent)"
   ]
  },
  {
   "cell_type": "code",
   "execution_count": 12,
   "metadata": {},
   "outputs": [
    {
     "name": "stdout",
     "output_type": "stream",
     "text": [
      "Took 43.04327900172211 ms\n"
     ]
    },
    {
     "data": {
      "text/html": [
       "<div>\n",
       "<style scoped>\n",
       "    .dataframe tbody tr th:only-of-type {\n",
       "        vertical-align: middle;\n",
       "    }\n",
       "\n",
       "    .dataframe tbody tr th {\n",
       "        vertical-align: top;\n",
       "    }\n",
       "\n",
       "    .dataframe thead th {\n",
       "        text-align: right;\n",
       "    }\n",
       "</style>\n",
       "<table border=\"1\" class=\"dataframe\">\n",
       "  <thead>\n",
       "    <tr style=\"text-align: right;\">\n",
       "      <th></th>\n",
       "      <th>id</th>\n",
       "      <th>abstract</th>\n",
       "    </tr>\n",
       "  </thead>\n",
       "  <tbody>\n",
       "    <tr>\n",
       "      <th>154072</th>\n",
       "      <td>0911.0051</td>\n",
       "      <td>Models for wildfires must be stochastic if t...</td>\n",
       "    </tr>\n",
       "    <tr>\n",
       "      <th>753110</th>\n",
       "      <td>1607.05559</td>\n",
       "      <td>Gelfand numbers represent a measure for the ...</td>\n",
       "    </tr>\n",
       "    <tr>\n",
       "      <th>79793</th>\n",
       "      <td>0808.3661</td>\n",
       "      <td>In this paper, we abstract a kind of stochas...</td>\n",
       "    </tr>\n",
       "    <tr>\n",
       "      <th>539846</th>\n",
       "      <td>1407.3089</td>\n",
       "      <td>We propose new summary statistics for intens...</td>\n",
       "    </tr>\n",
       "    <tr>\n",
       "      <th>278792</th>\n",
       "      <td>1108.0754</td>\n",
       "      <td>The Burning Index (BI) produced daily by the...</td>\n",
       "    </tr>\n",
       "  </tbody>\n",
       "</table>\n",
       "</div>"
      ],
      "text/plain": [
       "                id                                           abstract\n",
       "154072   0911.0051    Models for wildfires must be stochastic if t...\n",
       "753110  1607.05559    Gelfand numbers represent a measure for the ...\n",
       "79793    0808.3661    In this paper, we abstract a kind of stochas...\n",
       "539846   1407.3089    We propose new summary statistics for intens...\n",
       "278792   1108.0754    The Burning Index (BI) produced daily by the..."
      ]
     },
     "execution_count": 12,
     "metadata": {},
     "output_type": "execute_result"
    }
   ],
   "source": [
    "inference(my_thesis[:50])"
   ]
  }
 ],
 "metadata": {
  "kernelspec": {
   "display_name": "Python 3 (ipykernel)",
   "language": "python",
   "name": "python3"
  },
  "language_info": {
   "codemirror_mode": {
    "name": "ipython",
    "version": 3
   },
   "file_extension": ".py",
   "mimetype": "text/x-python",
   "name": "python",
   "nbconvert_exporter": "python",
   "pygments_lexer": "ipython3",
   "version": "3.9.5"
  }
 },
 "nbformat": 4,
 "nbformat_minor": 4
}
