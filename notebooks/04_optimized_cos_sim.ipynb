{
 "cells": [
  {
   "cell_type": "code",
   "execution_count": 1,
   "metadata": {},
   "outputs": [],
   "source": [
    "import pickle\n",
    "import numpy as np\n",
    "import sklearn\n",
    "import scipy\n",
    "from sklearn.metrics.pairwise import cosine_similarity as cos_sim"
   ]
  },
  {
   "cell_type": "code",
   "execution_count": 2,
   "metadata": {},
   "outputs": [
    {
     "name": "stderr",
     "output_type": "stream",
     "text": [
      "/home/tomek/projects/paper-finder/venv/lib/python3.9/site-packages/sklearn/base.py:310: UserWarning: Trying to unpickle estimator TfidfTransformer from version 0.23.2 when using version 0.24.2. This might lead to breaking code or invalid results. Use at your own risk.\n",
      "  warnings.warn(\n",
      "/home/tomek/projects/paper-finder/venv/lib/python3.9/site-packages/sklearn/base.py:310: UserWarning: Trying to unpickle estimator TfidfVectorizer from version 0.23.2 when using version 0.24.2. This might lead to breaking code or invalid results. Use at your own risk.\n",
      "  warnings.warn(\n"
     ]
    }
   ],
   "source": [
    "with open('/home/tomek/projects/paper-finder/app/pickles/full_cv.pkl', 'rb') as f:\n",
    "    df_full_cv = pickle.load(f)\n",
    "    \n",
    "with open('/home/tomek/projects/paper-finder/app/pickles/vectorizer.pkl', 'rb') as f:\n",
    "    tfidf_v = pickle.load(f)"
   ]
  },
  {
   "cell_type": "code",
   "execution_count": 3,
   "metadata": {},
   "outputs": [],
   "source": [
    "X_tfidf = tfidf_v.transform(df_full_cv.abstract)\n",
    "X_tfidf_csc = X_tfidf.tocsc()"
   ]
  },
  {
   "cell_type": "code",
   "execution_count": 4,
   "metadata": {},
   "outputs": [],
   "source": [
    "resnet_abstact = \"\"\"\n",
    "Deeper neural networks are more difficult to train. We present a residual learning framework to ease the training of networks that are substantially deeper than those used previously. We explicitly reformulate the layers as learning residual functions with reference to the layer inputs, instead of learning unreferenced functions. We provide comprehensive empirical evidence showing that these residual networks are easier to optimize, and can gain accuracy from considerably increased depth. On the ImageNet dataset we evaluate residual nets with a depth of up to 152 layers---8x deeper than VGG nets but still having lower complexity. An ensemble of these residual nets achieves 3.57% error on the ImageNet test set. This result won the 1st place on the ILSVRC 2015 classification task. We also present analysis on CIFAR-10 with 100 and 1000 layers.\n",
    "The depth of representations is of central importance for many visual recognition tasks. Solely due to our extremely deep representations, we obtain a 28% relative improvement on the COCO object detection dataset. Deep residual nets are foundations of our submissions to ILSVRC & COCO 2015 competitions, where we also won the 1st places on the tasks of ImageNet detection, ImageNet localization, COCO detection, and COCO segmentation. \n",
    "\"\"\""
   ]
  },
  {
   "cell_type": "code",
   "execution_count": 5,
   "metadata": {},
   "outputs": [],
   "source": [
    "abstract = \"\"\"Deeper neural networks\"\"\""
   ]
  },
  {
   "cell_type": "code",
   "execution_count": 6,
   "metadata": {},
   "outputs": [],
   "source": [
    "def calculate_cos_sim_old(abstract):\n",
    "    \n",
    "    x = tfidf_v.transform([abstract])\n",
    "    sims = cos_sim(X_tfidf, x)\n",
    "    sims = np.squeeze(sims)\n",
    "    \n",
    "    return sims\n",
    "\n",
    "def calculate_cos_sim_fast(query_str: str):\n",
    "    # Performs query only on columns existing in the \n",
    "    # Time complexity is O(n) where n is # of unique tokens\n",
    "    # This is more efficinet, but only for small inputs \n",
    "    \n",
    "    # tokenize the string\n",
    "    x = np.array(tfidf_v.transform([query_str]).todense())\n",
    "    \n",
    "    # construct query vector\n",
    "    x_nonzero_idx = x.nonzero()[1]\n",
    "    x_small = x[:,x_nonzero_idx]\n",
    "    \n",
    "    # Narrow the similarity computation to tokens that are present in the query_string\n",
    "    X_words_sparse = scipy.sparse.hstack([X_tfidf_csc.getcol(c) for c in x_nonzero_idx])\n",
    "\n",
    "    # the vectors are already normalized\n",
    "    # we can thus limit a*b/(norm(a)*norm(b)) to a*b\n",
    "    cos_sim = X_words_sparse @ x_small.T\n",
    "    \n",
    "    return cos_sim"
   ]
  },
  {
   "cell_type": "code",
   "execution_count": 7,
   "metadata": {},
   "outputs": [
    {
     "name": "stdout",
     "output_type": "stream",
     "text": [
      "59 ms ± 349 µs per loop (mean ± std. dev. of 7 runs, 10 loops each)\n"
     ]
    }
   ],
   "source": [
    "%timeit calculate_cos_sim_old(resnet_abstact)"
   ]
  },
  {
   "cell_type": "code",
   "execution_count": 8,
   "metadata": {},
   "outputs": [
    {
     "name": "stdout",
     "output_type": "stream",
     "text": [
      "10.6 ms ± 268 µs per loop (mean ± std. dev. of 7 runs, 100 loops each)\n"
     ]
    }
   ],
   "source": [
    "%timeit calculate_cos_sim_fast(resnet_abstact)"
   ]
  },
  {
   "cell_type": "code",
   "execution_count": 9,
   "metadata": {},
   "outputs": [
    {
     "name": "stdout",
     "output_type": "stream",
     "text": [
      "1.25 ms ± 24.7 µs per loop (mean ± std. dev. of 7 runs, 1000 loops each)\n"
     ]
    }
   ],
   "source": [
    "%timeit calculate_cos_sim_fast(resnet_abstact[:5])"
   ]
  },
  {
   "cell_type": "code",
   "execution_count": 10,
   "metadata": {},
   "outputs": [
    {
     "name": "stdout",
     "output_type": "stream",
     "text": [
      "51.1 ms ± 413 µs per loop (mean ± std. dev. of 7 runs, 10 loops each)\n"
     ]
    }
   ],
   "source": [
    "%timeit calculate_cos_sim_old(resnet_abstact[:10])"
   ]
  },
  {
   "cell_type": "code",
   "execution_count": 11,
   "metadata": {},
   "outputs": [
    {
     "name": "stdout",
     "output_type": "stream",
     "text": [
      "1.15 ms ± 10.1 µs per loop (mean ± std. dev. of 7 runs, 1000 loops each)\n"
     ]
    }
   ],
   "source": [
    "%timeit calculate_cos_sim_fast(resnet_abstact[:10])"
   ]
  },
  {
   "cell_type": "code",
   "execution_count": 12,
   "metadata": {},
   "outputs": [
    {
     "name": "stdout",
     "output_type": "stream",
     "text": [
      "5.11 ms ± 84.9 µs per loop (mean ± std. dev. of 7 runs, 100 loops each)\n"
     ]
    }
   ],
   "source": [
    "%timeit calculate_cos_sim_fast(resnet_abstact[:500])"
   ]
  },
  {
   "cell_type": "code",
   "execution_count": 13,
   "metadata": {},
   "outputs": [],
   "source": [
    "similarities = calculate_cos_sim_fast(resnet_abstact)"
   ]
  },
  {
   "cell_type": "code",
   "execution_count": 17,
   "metadata": {},
   "outputs": [
    {
     "data": {
      "text/html": [
       "<div>\n",
       "<style scoped>\n",
       "    .dataframe tbody tr th:only-of-type {\n",
       "        vertical-align: middle;\n",
       "    }\n",
       "\n",
       "    .dataframe tbody tr th {\n",
       "        vertical-align: top;\n",
       "    }\n",
       "\n",
       "    .dataframe thead th {\n",
       "        text-align: right;\n",
       "    }\n",
       "</style>\n",
       "<table border=\"1\" class=\"dataframe\">\n",
       "  <thead>\n",
       "    <tr style=\"text-align: right;\">\n",
       "      <th></th>\n",
       "      <th>id</th>\n",
       "      <th>submitter</th>\n",
       "      <th>authors</th>\n",
       "      <th>title</th>\n",
       "      <th>comments</th>\n",
       "      <th>journal-ref</th>\n",
       "      <th>doi</th>\n",
       "      <th>report-no</th>\n",
       "      <th>categories</th>\n",
       "      <th>license</th>\n",
       "      <th>abstract</th>\n",
       "      <th>versions</th>\n",
       "      <th>update_date</th>\n",
       "      <th>authors_parsed</th>\n",
       "    </tr>\n",
       "  </thead>\n",
       "  <tbody>\n",
       "    <tr>\n",
       "      <th>686037</th>\n",
       "      <td>1512.03385</td>\n",
       "      <td>Kaiming He</td>\n",
       "      <td>Kaiming He, Xiangyu Zhang, Shaoqing Ren, Jian Sun</td>\n",
       "      <td>Deep Residual Learning for Image Recognition</td>\n",
       "      <td>Tech report</td>\n",
       "      <td>None</td>\n",
       "      <td>None</td>\n",
       "      <td>None</td>\n",
       "      <td>cs.CV</td>\n",
       "      <td>http://arxiv.org/licenses/nonexclusive-distrib...</td>\n",
       "      <td>Deeper neural networks are more difficult to...</td>\n",
       "      <td>[{'version': 'v1', 'created': 'Thu, 10 Dec 201...</td>\n",
       "      <td>2015-12-11</td>\n",
       "      <td>[[He, Kaiming, ], [Zhang, Xiangyu, ], [Ren, Sh...</td>\n",
       "    </tr>\n",
       "    <tr>\n",
       "      <th>955911</th>\n",
       "      <td>1803.05778</td>\n",
       "      <td>Yatin Saraiya</td>\n",
       "      <td>Yatin Saraiya</td>\n",
       "      <td>Using accumulation to optimize deep residual n...</td>\n",
       "      <td>7 pages, 6 figures, 1 table</td>\n",
       "      <td>None</td>\n",
       "      <td>None</td>\n",
       "      <td>None</td>\n",
       "      <td>cs.CV</td>\n",
       "      <td>http://arxiv.org/licenses/nonexclusive-distrib...</td>\n",
       "      <td>Residual Neural Networks [1] won first place...</td>\n",
       "      <td>[{'version': 'v1', 'created': 'Sun, 14 Jan 201...</td>\n",
       "      <td>2018-03-16</td>\n",
       "      <td>[[Saraiya, Yatin, ]]</td>\n",
       "    </tr>\n",
       "    <tr>\n",
       "      <th>771150</th>\n",
       "      <td>1609.05672</td>\n",
       "      <td>Masoud Abdi</td>\n",
       "      <td>Masoud Abdi and Saeid Nahavandi</td>\n",
       "      <td>Multi-Residual Networks: Improving the Speed a...</td>\n",
       "      <td>This work has been submitted to the IEEE for p...</td>\n",
       "      <td>None</td>\n",
       "      <td>None</td>\n",
       "      <td>None</td>\n",
       "      <td>cs.CV</td>\n",
       "      <td>http://arxiv.org/licenses/nonexclusive-distrib...</td>\n",
       "      <td>In this article, we take one step toward und...</td>\n",
       "      <td>[{'version': 'v1', 'created': 'Mon, 19 Sep 201...</td>\n",
       "      <td>2017-03-16</td>\n",
       "      <td>[[Abdi, Masoud, ], [Nahavandi, Saeid, ]]</td>\n",
       "    </tr>\n",
       "    <tr>\n",
       "      <th>758663</th>\n",
       "      <td>1608.02201</td>\n",
       "      <td>Hussein Al-Barazanchi</td>\n",
       "      <td>Hussein A. Al-Barazanchi, Hussam Qassim, Abhis...</td>\n",
       "      <td>Residual CNDS</td>\n",
       "      <td>None</td>\n",
       "      <td>None</td>\n",
       "      <td>None</td>\n",
       "      <td>None</td>\n",
       "      <td>cs.CV</td>\n",
       "      <td>http://creativecommons.org/licenses/by/4.0/</td>\n",
       "      <td>Convolutional Neural networks nowadays are o...</td>\n",
       "      <td>[{'version': 'v1', 'created': 'Sun, 7 Aug 2016...</td>\n",
       "      <td>2016-08-09</td>\n",
       "      <td>[[Al-Barazanchi, Hussein A., ], [Qassim, Hussa...</td>\n",
       "    </tr>\n",
       "    <tr>\n",
       "      <th>735261</th>\n",
       "      <td>1605.07146</td>\n",
       "      <td>Sergey Zagoruyko</td>\n",
       "      <td>Sergey Zagoruyko, Nikos Komodakis</td>\n",
       "      <td>Wide Residual Networks</td>\n",
       "      <td>None</td>\n",
       "      <td>None</td>\n",
       "      <td>None</td>\n",
       "      <td>None</td>\n",
       "      <td>cs.CV cs.LG cs.NE</td>\n",
       "      <td>http://arxiv.org/licenses/nonexclusive-distrib...</td>\n",
       "      <td>Deep residual networks were shown to be able...</td>\n",
       "      <td>[{'version': 'v1', 'created': 'Mon, 23 May 201...</td>\n",
       "      <td>2017-06-15</td>\n",
       "      <td>[[Zagoruyko, Sergey, ], [Komodakis, Nikos, ]]</td>\n",
       "    </tr>\n",
       "  </tbody>\n",
       "</table>\n",
       "</div>"
      ],
      "text/plain": [
       "                id              submitter  \\\n",
       "686037  1512.03385             Kaiming He   \n",
       "955911  1803.05778          Yatin Saraiya   \n",
       "771150  1609.05672            Masoud Abdi   \n",
       "758663  1608.02201  Hussein Al-Barazanchi   \n",
       "735261  1605.07146       Sergey Zagoruyko   \n",
       "\n",
       "                                                  authors  \\\n",
       "686037  Kaiming He, Xiangyu Zhang, Shaoqing Ren, Jian Sun   \n",
       "955911                                      Yatin Saraiya   \n",
       "771150                    Masoud Abdi and Saeid Nahavandi   \n",
       "758663  Hussein A. Al-Barazanchi, Hussam Qassim, Abhis...   \n",
       "735261                  Sergey Zagoruyko, Nikos Komodakis   \n",
       "\n",
       "                                                    title  \\\n",
       "686037       Deep Residual Learning for Image Recognition   \n",
       "955911  Using accumulation to optimize deep residual n...   \n",
       "771150  Multi-Residual Networks: Improving the Speed a...   \n",
       "758663                                      Residual CNDS   \n",
       "735261                             Wide Residual Networks   \n",
       "\n",
       "                                                 comments journal-ref   doi  \\\n",
       "686037                                        Tech report        None  None   \n",
       "955911                        7 pages, 6 figures, 1 table        None  None   \n",
       "771150  This work has been submitted to the IEEE for p...        None  None   \n",
       "758663                                               None        None  None   \n",
       "735261                                               None        None  None   \n",
       "\n",
       "       report-no         categories  \\\n",
       "686037      None              cs.CV   \n",
       "955911      None              cs.CV   \n",
       "771150      None              cs.CV   \n",
       "758663      None              cs.CV   \n",
       "735261      None  cs.CV cs.LG cs.NE   \n",
       "\n",
       "                                                  license  \\\n",
       "686037  http://arxiv.org/licenses/nonexclusive-distrib...   \n",
       "955911  http://arxiv.org/licenses/nonexclusive-distrib...   \n",
       "771150  http://arxiv.org/licenses/nonexclusive-distrib...   \n",
       "758663        http://creativecommons.org/licenses/by/4.0/   \n",
       "735261  http://arxiv.org/licenses/nonexclusive-distrib...   \n",
       "\n",
       "                                                 abstract  \\\n",
       "686037    Deeper neural networks are more difficult to...   \n",
       "955911    Residual Neural Networks [1] won first place...   \n",
       "771150    In this article, we take one step toward und...   \n",
       "758663    Convolutional Neural networks nowadays are o...   \n",
       "735261    Deep residual networks were shown to be able...   \n",
       "\n",
       "                                                 versions update_date  \\\n",
       "686037  [{'version': 'v1', 'created': 'Thu, 10 Dec 201...  2015-12-11   \n",
       "955911  [{'version': 'v1', 'created': 'Sun, 14 Jan 201...  2018-03-16   \n",
       "771150  [{'version': 'v1', 'created': 'Mon, 19 Sep 201...  2017-03-16   \n",
       "758663  [{'version': 'v1', 'created': 'Sun, 7 Aug 2016...  2016-08-09   \n",
       "735261  [{'version': 'v1', 'created': 'Mon, 23 May 201...  2017-06-15   \n",
       "\n",
       "                                           authors_parsed  \n",
       "686037  [[He, Kaiming, ], [Zhang, Xiangyu, ], [Ren, Sh...  \n",
       "955911                               [[Saraiya, Yatin, ]]  \n",
       "771150           [[Abdi, Masoud, ], [Nahavandi, Saeid, ]]  \n",
       "758663  [[Al-Barazanchi, Hussein A., ], [Qassim, Hussa...  \n",
       "735261      [[Zagoruyko, Sergey, ], [Komodakis, Nikos, ]]  "
      ]
     },
     "execution_count": 17,
     "metadata": {},
     "output_type": "execute_result"
    }
   ],
   "source": [
    "most_sim_idx = similarities.squeeze().argsort()[::-1]\n",
    "df_similar = df_full_cv.iloc[most_sim_idx[:5]]\n",
    "df_similar"
   ]
  }
 ],
 "metadata": {
  "kernelspec": {
   "display_name": "Python 3 (ipykernel)",
   "language": "python",
   "name": "python3"
  },
  "language_info": {
   "codemirror_mode": {
    "name": "ipython",
    "version": 3
   },
   "file_extension": ".py",
   "mimetype": "text/x-python",
   "name": "python",
   "nbconvert_exporter": "python",
   "pygments_lexer": "ipython3",
   "version": "3.9.5"
  }
 },
 "nbformat": 4,
 "nbformat_minor": 4
}
